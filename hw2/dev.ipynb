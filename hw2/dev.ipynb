{
 "cells": [
  {
   "cell_type": "code",
   "execution_count": 2,
   "metadata": {},
   "outputs": [],
   "source": [
    "text = '$100 $25.50 $1,234 $2 million trillion $3.5 billion 15 dollars One dollar ninety-nine cents 2 dollars and 50 cents $4.99 one dollar and seventy-five cents CAD$100 AUD 50 US$250 100 yen (to be ignored) 250 euros (to be ignored) 3000 francs'"
   ]
  },
  {
   "cell_type": "code",
   "execution_count": 3,
   "metadata": {},
   "outputs": [
    {
     "data": {
      "text/plain": [
       "['$100',\n",
       " '$25.50',\n",
       " '$1,234',\n",
       " '$2 million',\n",
       " '$3.5 billion',\n",
       " '$4.99',\n",
       " '$100',\n",
       " '$250',\n",
       " '15 dollars',\n",
       " 'One dollar',\n",
       " 'ninety-nine cents',\n",
       " '2 dollars',\n",
       " '50 cents',\n",
       " 'one dollar',\n",
       " 'seventy-five cents']"
      ]
     },
     "execution_count": 3,
     "metadata": {},
     "output_type": "execute_result"
    }
   ],
   "source": [
    "import re\n",
    "\n",
    "pattern1 = r'\\$(?:(?:\\d{1,3}(?:\\,\\d{3})*)|(?:\\d+))(?:\\.\\d+)?(?: million| billion| trillion| thousand| hundred)?(?: dollars?| cents?)?'\n",
    "pattern2 = r'[^$]((?:(?:\\d{1,3}(?:\\,\\d{3})*)|(?:\\d+)|[a-zA-Z-]*)\\s?(?:hundred\\s?)?(?:thousand\\s?)?(?:million\\s?)?(?:billion\\s?)?(?:trillion\\s?)?\\s?(?:dollars?|cents?))'\n",
    "\n",
    "result1 = re.findall(pattern1, text)\n",
    "result2 = re.findall(pattern2, text)\n",
    "result1 + result2"
   ]
  },
  {
   "cell_type": "code",
   "execution_count": 3,
   "metadata": {},
   "outputs": [],
   "source": [
    "with open('all-OANC.txt') as file:\n",
    "    all_OANC = file.read()"
   ]
  },
  {
   "cell_type": "code",
   "execution_count": 4,
   "metadata": {},
   "outputs": [],
   "source": [
    "result_OANC_1 = re.findall(pattern1, all_OANC)\n",
    "result_OANC_2 = re.findall(pattern2, all_OANC)\n",
    "\n",
    "result_OANC = result_OANC_1 + result_OANC_2\n",
    "result_OANC"
   ]
  },
  {
   "cell_type": "code",
   "execution_count": null,
   "metadata": {},
   "outputs": [],
   "source": []
  },
  {
   "cell_type": "code",
   "execution_count": null,
   "metadata": {},
   "outputs": [],
   "source": []
  }
 ],
 "metadata": {
  "kernelspec": {
   "display_name": "machinelearning",
   "language": "python",
   "name": "python3"
  },
  "language_info": {
   "codemirror_mode": {
    "name": "ipython",
    "version": 3
   },
   "file_extension": ".py",
   "mimetype": "text/x-python",
   "name": "python",
   "nbconvert_exporter": "python",
   "pygments_lexer": "ipython3",
   "version": "3.11.5"
  }
 },
 "nbformat": 4,
 "nbformat_minor": 2
}
